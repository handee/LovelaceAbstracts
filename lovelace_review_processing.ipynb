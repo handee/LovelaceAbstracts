{
 "cells": [
  {
   "cell_type": "markdown",
   "metadata": {},
   "source": [
    "# this is a notebook to process abstracts from the BCSWomen Lovelace Colloquium"
   ]
  },
  {
   "cell_type": "code",
   "execution_count": null,
   "metadata": {},
   "outputs": [],
   "source": [
    "import pandas as pd\n",
    "data=pd.read_excel('final.xls')\n",
    "data=data.set_index('ID')\n",
    "data.head()"
   ]
  },
  {
   "cell_type": "markdown",
   "metadata": {},
   "source": [
    "# processing student data: \n",
    "\n",
    "Write out each abstract as a txt file"
   ]
  },
  {
   "cell_type": "code",
   "execution_count": null,
   "metadata": {},
   "outputs": [],
   "source": [
    "from pathlib import Path\n",
    "import shutil\n",
    "import os\n",
    "\n",
    "#if exists, remove directory\n",
    "dirpath = Path('output')\n",
    "if dirpath.exists() and dirpath.is_dir():\n",
    "    shutil.rmtree(dirpath)\n",
    "#create directory\n",
    "os.mkdir('output')\n",
    "\n",
    "n=0\n",
    "#write files\n",
    "for idex, abst in data.iterrows():\n",
    "    contest=abst['Which poster contest are you entering?']\n",
    "    title=abst['Poster Title']\n",
    "    abstract=abst['Poster Abstract ( 250 words)']\n",
    "    filename=f\"output/abs{idex}.txt\"\n",
    "    with open(filename, \"w\") as f:\n",
    "        f.write(\"abstract id: \")\n",
    "        f.write(str(idex))\n",
    "        f.write('\\n')\n",
    "        f.write(contest)\n",
    "        f.write('\\n\\n')\n",
    "        f.write(title)\n",
    "        f.write('\\n\\n')\n",
    "        f.write(abstract)\n",
    "    n=n+1\n",
    "print(f'Successfully written {n} abstract files')"
   ]
  },
  {
   "cell_type": "markdown",
   "metadata": {},
   "source": [
    "# Processing reviewer data: next cell\n",
    "this reads in the reviewer csv \n",
    "does some summary stats\n",
    "creates zip files per reviewer"
   ]
  },
  {
   "cell_type": "code",
   "execution_count": null,
   "metadata": {},
   "outputs": [],
   "source": [
    "assignment=pd.read_csv('reviewers.csv')\n",
    "assignment=assignment.set_index('ID')\n",
    "assignment.head()\n"
   ]
  },
  {
   "cell_type": "code",
   "execution_count": null,
   "metadata": {},
   "outputs": [],
   "source": [
    "from collections import defaultdict\n",
    "reviewers=defaultdict(list)\n",
    "for idex, stud in assignment.iterrows():\n",
    "    reviewers[stud['R1']].append(idex)\n",
    "    reviewers[stud['R2']].append(idex)"
   ]
  },
  {
   "cell_type": "code",
   "execution_count": null,
   "metadata": {},
   "outputs": [],
   "source": [
    "import zipfile as zf\n",
    "for reviewer,li in reviewers.items():\n",
    "    print(f\"{reviewer} has {len(li)} abstracts\")\n",
    "    fn=f\"{reviewer}.zip\"\n",
    "    with zf.ZipFile(fn, 'w') as myzip:\n",
    "        for idex in li:\n",
    "            filename=f\"output/abs{idex}.txt\"\n",
    "            myzip.write(filename)\n",
    "\n",
    "        "
   ]
  },
  {
   "cell_type": "code",
   "execution_count": null,
   "metadata": {},
   "outputs": [],
   "source": [
    "x=list(reviewers.keys())\n",
    "print(sorted(x))"
   ]
  },
  {
   "cell_type": "code",
   "execution_count": null,
   "metadata": {},
   "outputs": [],
   "source": [
    "len(x)"
   ]
  },
  {
   "cell_type": "code",
   "execution_count": null,
   "metadata": {},
   "outputs": [],
   "source": [
    "done=pd.read_csv('revs-19-feb.csv')\n",
    "done=done.dropna()\n",
    "done['Abstract ID']=done['Abstract ID'].astype(int)\n",
    "done=done.rename(columns={'Feedback to student: please try to say something nice, something constructive, and a suggestion for presentation.  E.g. \"This is a fascinating poster topic and very timely. You should take care to spell check your work before submission, as there are a few grammatical errors. Have you read [insert interesting paper name] on this? You might enjoy it. When designing your poster it would be nice to include images of [insert thing]\"':'Feedback'})\n",
    "done.head()"
   ]
  },
  {
   "cell_type": "code",
   "execution_count": null,
   "metadata": {},
   "outputs": [],
   "source": [
    "has_reviews={}\n",
    "reviewed_by={}\n",
    "for idex, stud in assignment.iterrows():\n",
    "    has_reviews[idex]=0\n",
    "    reviewed_by[idex]=[]\n",
    "    reviews_by_abs[idex]=[]\n",
    "left={}\n",
    "for reviewer,li in reviewers.items():\n",
    "    print(f\"{reviewer} has {len(li)} abstracts: {li}\")\n",
    "    print(f\"{reviewer} has reviewed {len(done.loc[done['Reviewer name']==reviewer])} abstracts \")\n",
    "    donelist=list(done['Abstract ID'].loc[done['Reviewer name']==reviewer])\n",
    "    print(donelist)\n",
    "    for abstr in donelist:\n",
    "        has_reviews[abstr]+=1\n",
    "        reviewed_by[abstr].append(reviewer)\n",
    "    if (len(donelist)==len(li)):\n",
    "        print(\"The reviewer has reviewed the right number of abstracts\")\n",
    "        if (donelist.sort()==li.sort()):\n",
    "            print(\"The reviewed abstracts match the assigned abstracts\")\n",
    "        else:\n",
    "            print(\"The reviewed abstracts don't match the assigned abstracts\") \n",
    "    else:\n",
    "        print(f\"The reviewer ({reviewer})hasn't finished\")\n",
    "        unreviewed = [i for i in li if i not in donelist]\n",
    "        left[reviewer]=unreviewed\n",
    "print (left)\n",
    "\n",
    "print(f\"There are {sum(value == 0 for value in has_reviews.values())} abstracts with 0 reviews\")\n",
    "\n",
    "print(f\"There are {sum(value == 1 for value in has_reviews.values())} abstracts with 1 review\")\n",
    "\n",
    "print(f\"There are {sum(value == 2 for value in has_reviews.values())} abstracts finished\")"
   ]
  },
  {
   "cell_type": "markdown",
   "metadata": {},
   "source": [
    "# checking the leftover ones"
   ]
  },
  {
   "cell_type": "code",
   "execution_count": null,
   "metadata": {},
   "outputs": [],
   "source": [
    "for i in left:\n",
    "    for ab in left[i]:\n",
    "        print(f\"{ab} is from {data['University name e.g. Lancaster University'].iloc[ab]}\")\n",
    "        print(f\"{ab} was reviewed by {reviewed_by[ab]}\")"
   ]
  },
  {
   "cell_type": "markdown",
   "metadata": {},
   "source": [
    "# finding those from a specific uni"
   ]
  },
  {
   "cell_type": "code",
   "execution_count": null,
   "metadata": {},
   "outputs": [],
   "source": [
    "data[['Name and surname','University email']].loc[data['University name e.g. Lancaster University']=='Lancaster University']"
   ]
  },
  {
   "cell_type": "markdown",
   "metadata": {},
   "source": [
    "# finding the problematic ones"
   ]
  },
  {
   "cell_type": "code",
   "execution_count": null,
   "metadata": {},
   "outputs": [],
   "source": [
    "problems=done.loc[done['Overall']=='Problematic']\n",
    "problems.drop(['Timestamp','Overall'], axis=1)\n",
    "problems=problems.sort_values(by='Abstract ID')\n",
    "for i,p in problems.iterrows():\n",
    "    print(f\"abstract {p['Abstract ID']} {p['Reviewer name']} says:\")\n",
    "    print(p['Feedback'])"
   ]
  },
  {
   "cell_type": "markdown",
   "metadata": {},
   "source": [
    "# Make a list of the reject ones by id"
   ]
  },
  {
   "cell_type": "code",
   "execution_count": null,
   "metadata": {},
   "outputs": [],
   "source": [
    "rejects=[4,8,14,97]"
   ]
  },
  {
   "cell_type": "markdown",
   "metadata": {},
   "source": [
    "# generating the email text"
   ]
  },
  {
   "cell_type": "code",
   "execution_count": null,
   "metadata": {},
   "outputs": [],
   "source": [
    "reviews_by_abs={}\n",
    "\n",
    "for idex, stud in assignment.iterrows():\n",
    "    reviews_by_abs[idex]=[]\n",
    "\n",
    "for idx,rev in done.iterrows():\n",
    "    reviews_by_abs[rev['Abstract ID']].append(rev['Feedback'])\n",
    "\n"
   ]
  },
  {
   "cell_type": "code",
   "execution_count": null,
   "metadata": {},
   "outputs": [],
   "source": [
    "outdir='email_text'\n",
    "dirpath = Path(outdir)\n",
    "if dirpath.exists() and dirpath.is_dir():\n",
    "    shutil.rmtree(dirpath)\n",
    "#create directory\n",
    "os.mkdir(outdir)\n",
    "\n",
    "n=0\n",
    "#write files\n",
    "filenamesh=f\"{outdir}/mail_all_students.sh\"\n",
    "\n",
    "with open(filenamesh,\"w\") as scriptfile: # file to hold the shell script which sends the emails\n",
    "    for idex, abst in data.iterrows():\n",
    "        if idex not in rejects: #ignoring rejected abstracts\n",
    "            contest=abst['Which poster contest are you entering?']\n",
    "            title=abst['Poster Title']\n",
    "            abstract=abst['Poster Abstract ( 250 words)']\n",
    "            name=abst['Name and surname']\n",
    "            email=abst['University email']\n",
    "            filename=f\"{outdir}/mail{idex}.txt\"\n",
    "\n",
    "            \n",
    "            scriptfile.write(f\"mail -s \\\"BCSWomen Lovelace Colloquium Acceptance\\\" {email} < {filename}\\n\")\n",
    "\n",
    "            with open(filename, \"w\") as f:\n",
    "                f.write(f\"Dear {name}\\n \")\n",
    "                f.write('\\n')\n",
    "                f.write(f\"Thank you for submitting an abstract to the {contest} \\n\")\n",
    "                f.write(\"contest at the BCSWomen Lovelace Colloquium\")\n",
    "                f.write(\"\\n\\n\")\n",
    "                f.write(\"We are pleased to accept your abstract and invite you to present a poster\\n\")\n",
    "                f.write(\"at the colloquium.\")\n",
    "                f.write(\"\\n\\n\")\n",
    "                f.write(\"Here are some comments from our reviewers:\\n\")\n",
    "                for rno,fb in enumerate(reviews_by_abs[idex]):\n",
    "                    f.write(f\"Review text {rno}\\n\\n\")\n",
    "                    f.write(fb)\n",
    "                    f.write('\\n\\n')\n",
    "                f.write(\"\\nWhat to do next:\\n\\n\")\n",
    "                f.write(\" 1. Make sure you have the dates in your diary: \\n\")\n",
    "                f.write(\"    30th March 1 day conference, with evening social on the 29th\\n\\n\")\n",
    "                f.write(\" 2. Respond to this email confirming attendance\\n\\n\")\n",
    "                f.write(\" 3. Start working on your poster\\n\\n\")\n",
    "                f.write(\" 4. Join one (or both) of our groups for attendees at the event\\n\")\n",
    "                f.write(\"    Facebook group: https://www.facebook.com/groups/3642085902553682\\n\")\n",
    "                f.write(\"    Discord server: https://discord.gg/hTTuWD3E\\n\\n\")\n",
    "                f.write(\" 5. This year as we are online, we'd like a short video or audio presentation\\n\")\n",
    "                f.write(\"    The purpose of the audio/video is to allow us all to be more relaxed on the\\n\")\n",
    "                f.write(\"    day, as we'll do the poster contest stuff beforehand.\\n\\n\")\n",
    "                f.write(\"To help with preparation we have an info sheet online here:\\n\\n\")\n",
    "                f.write(\"https://docs.google.com/document/d/1WkhxjhZaJ3aq9RJbeyT1xj9njGTTuYMdcwpeeG5J9kU/edit?usp=sharing\\n\")\n",
    "                f.write(\"This is a live document and we'll keep it up to date as the event approaches.\\n\\n\")\n",
    "                f.write('As a reminder to you, your title and abstract are appended to this email. ')\n",
    "                f.write('If your reviews suggest that the abstract would benefit from revising, then ')\n",
    "                f.write('feel free to email me a new version')\n",
    "                f.write('\\n\\nYours,\\n\\nHannah Dee\\nBCSWomen Lovelace Colloquium Chair')\n",
    "\n",
    "                f.write('\\n\\n')\n",
    "                f.write(title)\n",
    "                f.write('\\n\\n')\n",
    "                f.write(abstract)\n",
    "            n=n+1\n",
    "print(f'Successfully written {n} email files')\n",
    "print(\"REMEMBER TO EMAIL THE REJECTED STUDENTS BY HAND\")\n"
   ]
  },
  {
   "cell_type": "code",
   "execution_count": null,
   "metadata": {},
   "outputs": [],
   "source": []
  }
 ],
 "metadata": {
  "kernelspec": {
   "display_name": "Python 3",
   "language": "python",
   "name": "python3"
  },
  "language_info": {
   "codemirror_mode": {
    "name": "ipython",
    "version": 3
   },
   "file_extension": ".py",
   "mimetype": "text/x-python",
   "name": "python",
   "nbconvert_exporter": "python",
   "pygments_lexer": "ipython3",
   "version": "3.6.9"
  }
 },
 "nbformat": 4,
 "nbformat_minor": 4
}
